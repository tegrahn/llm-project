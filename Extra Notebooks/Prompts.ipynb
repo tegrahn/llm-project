{
 "cells": [
  {
   "cell_type": "code",
   "execution_count": 5,
   "metadata": {},
   "outputs": [],
   "source": [
    "import pysqlite3\n",
    "import sys\n",
    "sys.modules[\"sqlite3\"] = sys.modules.pop(\"pysqlite3\")"
   ]
  },
  {
   "cell_type": "code",
   "execution_count": 12,
   "metadata": {},
   "outputs": [],
   "source": [
    "# Imports and functions\n",
    "import os\n",
    "import google.generativeai as genai\n",
    "from chromadb import Documents, EmbeddingFunction, Embeddings\n",
    "import chromadb\n",
    "from langchain.vectorstores import Chroma\n",
    "from langchain_core.prompts import PromptTemplate, ChatPromptTemplate\n",
    "from langchain_google_genai import ChatGoogleGenerativeAI, GoogleGenerativeAIEmbeddings\n",
    "from langchain_core.output_parsers import StrOutputParser, PydanticOutputParser\n",
    "from langchain_core.runnables import RunnablePassthrough\n",
    "from pydantic import BaseModel, Field\n",
    "\n",
    "genai.configure(api_key=os.environ['GOOGLE_API_KEY'])\n",
    "\n",
    "def format_docs(docs):\n",
    "    return \"\\n\\n\".join(doc.page_content for doc in docs)"
   ]
  },
  {
   "cell_type": "code",
   "execution_count": 19,
   "metadata": {},
   "outputs": [
    {
     "name": "stderr",
     "output_type": "stream",
     "text": [
      "Failed to send telemetry event ClientStartEvent: module 'chromadb' has no attribute 'get_settings'\n",
      "/tmp/ipykernel_61516/1583620799.py:5: LangChainDeprecationWarning: The class `Chroma` was deprecated in LangChain 0.2.9 and will be removed in 1.0. An updated version of the class exists in the :class:`~langchain-chroma package and should be used instead. To use it run `pip install -U :class:`~langchain-chroma` and import as `from :class:`~langchain_chroma import Chroma``.\n",
      "  db = Chroma(\n",
      "Failed to send telemetry event ClientCreateCollectionEvent: module 'chromadb' has no attribute 'get_settings'\n"
     ]
    }
   ],
   "source": [
    "# Chroma setup\n",
    "persistent_client = chromadb.PersistentClient(path=\"lex2\")\n",
    "embeddings = GoogleGenerativeAIEmbeddings(model=\"models/text-embedding-004\")\n",
    "\n",
    "db = Chroma(\n",
    "    client=persistent_client,\n",
    "    collection_name=\"lex_pod\",\n",
    "    embedding_function=embeddings,\n",
    ")\n",
    "\n",
    "llm = ChatGoogleGenerativeAI(\n",
    "    model=\"gemini-1.5-flash\",\n",
    "    temperature=0,\n",
    "    max_tokens=None,\n",
    "    timeout=None,\n",
    "    max_retries=2,\n",
    ")\n"
   ]
  },
  {
   "cell_type": "markdown",
   "metadata": {},
   "source": [
    "# Question Prompt"
   ]
  },
  {
   "cell_type": "code",
   "execution_count": 18,
   "metadata": {},
   "outputs": [
    {
     "ename": "NameError",
     "evalue": "name 'db' is not defined",
     "output_type": "error",
     "traceback": [
      "\u001b[0;31m---------------------------------------------------------------------------\u001b[0m",
      "\u001b[0;31mNameError\u001b[0m                                 Traceback (most recent call last)",
      "Cell \u001b[0;32mIn[18], line 58\u001b[0m\n\u001b[1;32m     44\u001b[0m \u001b[38;5;124;03m\"\"\"\u001b[39;00m\n\u001b[1;32m     45\u001b[0m \u001b[38;5;124;03mprompt = ChatPromptTemplate.from_messages(\u001b[39;00m\n\u001b[1;32m     46\u001b[0m \u001b[38;5;124;03m    [\u001b[39;00m\n\u001b[0;32m   (...)\u001b[0m\n\u001b[1;32m     50\u001b[0m \u001b[38;5;124;03m)\u001b[39;00m\n\u001b[1;32m     51\u001b[0m \u001b[38;5;124;03m\"\"\"\u001b[39;00m\n\u001b[1;32m     52\u001b[0m prompt \u001b[38;5;241m=\u001b[39m ChatPromptTemplate\u001b[38;5;241m.\u001b[39mfrom_messages(\n\u001b[1;32m     53\u001b[0m     [\n\u001b[1;32m     54\u001b[0m         (\u001b[38;5;124m\"\u001b[39m\u001b[38;5;124msystem\u001b[39m\u001b[38;5;124m\"\u001b[39m, system_prompt_style),\n\u001b[1;32m     55\u001b[0m         (\u001b[38;5;124m\"\u001b[39m\u001b[38;5;124mhuman\u001b[39m\u001b[38;5;124m\"\u001b[39m, input_prompt_attributes_context),\n\u001b[1;32m     56\u001b[0m     ]\n\u001b[1;32m     57\u001b[0m )\n\u001b[0;32m---> 58\u001b[0m retriever \u001b[38;5;241m=\u001b[39m \u001b[43mdb\u001b[49m\u001b[38;5;241m.\u001b[39mas_retriever(\n\u001b[1;32m     59\u001b[0m     search_type\u001b[38;5;241m=\u001b[39m\u001b[38;5;124m\"\u001b[39m\u001b[38;5;124mmmr\u001b[39m\u001b[38;5;124m\"\u001b[39m,\n\u001b[1;32m     60\u001b[0m     search_kwargs\u001b[38;5;241m=\u001b[39m{\u001b[38;5;124m'\u001b[39m\u001b[38;5;124mk\u001b[39m\u001b[38;5;124m'\u001b[39m: \u001b[38;5;241m5\u001b[39m}\n\u001b[1;32m     61\u001b[0m )\n\u001b[1;32m     63\u001b[0m topic \u001b[38;5;241m=\u001b[39m \u001b[38;5;124m\"\u001b[39m\u001b[38;5;124mCowboys\u001b[39m\u001b[38;5;124m\"\u001b[39m\n\u001b[1;32m     64\u001b[0m style_context \u001b[38;5;241m=\u001b[39m format_docs(retriever\u001b[38;5;241m.\u001b[39minvoke(\u001b[38;5;124m\"\u001b[39m\u001b[38;5;124mCowboys\u001b[39m\u001b[38;5;124m\"\u001b[39m))\n",
      "\u001b[0;31mNameError\u001b[0m: name 'db' is not defined"
     ]
    }
   ],
   "source": [
    "system_prompt_default = (\n",
    "    \"You are a conversational expert with the goal of providing\"\n",
    "    \"a thought provoking and open-ended discussion question.\"\n",
    ")\n",
    "\n",
    "system_prompt_style = (\n",
    "    \"You are a conversational expert with the goal of providing\"\n",
    "    \"an open-ended discussion question. You should use the following\"\n",
    "    \"conversation snippits to direct the style and tone with which\"\n",
    "    \"you ask the question\"\n",
    "    \"\\n\\n\"\n",
    "    \"{style_context}\"\n",
    ")\n",
    "\n",
    "input_prompt_default = (\n",
    "    \"Create a single discussion question that must be related to {topic}. \"\n",
    "    \"The question must only contain text wiht no markup, emojis or additional formatting\"\n",
    ")\n",
    "\n",
    "input_prompt_context = (\n",
    "    \"Create a single discussion question that must be related to {topic}.\"\n",
    "    \"Use the following snippits gain insight to context of the topic \"\n",
    "    \"and assist in the generation of a relevant question:\"\n",
    "    \"{document_context}\"\n",
    "    \"The question must only contain text wiht no markup, emojis or additional formatting\"\n",
    "\n",
    ")\n",
    "\n",
    "input_prompt_attributes = (\n",
    "    \"Create a single discussion question that must be related to {topic}.\"\n",
    "    \"The question should additionaly have the following attributes: {attributes}.\"\n",
    "    \"The question must only contain text wiht no markup, emojis or additional formatting\"\n",
    ")\n",
    "\n",
    "input_prompt_attributes_context = (\n",
    "    \"Create a single discussion question that must be related to {topic}.\"\n",
    "    \"The question should additionaly have the following attributes: {attributes}\"\n",
    "    \"Use the following snippits gain insight to context of the topic \"\n",
    "    \"and assist in the generation of a relevant question:\"\n",
    "    \"{document_context}\"\n",
    "    \"The question must only contain text wiht no markup, emojis or additional formatting\"\n",
    ")\n",
    "\n",
    "\"\"\"\n",
    "prompt = ChatPromptTemplate.from_messages(\n",
    "    [\n",
    "        (\"system\", system_prompt_default),\n",
    "        (\"human\", input_prompt_default),\n",
    "    ]\n",
    ")\n",
    "\"\"\"\n",
    "prompt = ChatPromptTemplate.from_messages(\n",
    "    [\n",
    "        (\"system\", system_prompt_style),\n",
    "        (\"human\", input_prompt_attributes_context),\n",
    "    ]\n",
    ")\n",
    "retriever = db.as_retriever(\n",
    "    search_type=\"mmr\",\n",
    "    search_kwargs={'k': 5}\n",
    ")\n",
    "\n",
    "topic = \"Cowboys\"\n",
    "style_context = format_docs(retriever.invoke(\"Cowboys\"))\n",
    "document_context = \"Cowboys are from the wild west\"\n",
    "attributes = \"Dark sad odd\"\n",
    "\n",
    "rag_chain = (\n",
    "    prompt\n",
    "    | llm\n",
    "    | StrOutputParser()\n",
    ")\n",
    "response = rag_chain.invoke({\"topic\":topic, \"attributes\":attributes, \n",
    "\"style_context\": style_context,\"document_context\":document_context})\n",
    "print(response)"
   ]
  },
  {
   "cell_type": "markdown",
   "metadata": {},
   "source": [
    "# Topic Prompt"
   ]
  },
  {
   "cell_type": "code",
   "execution_count": 60,
   "metadata": {},
   "outputs": [
    {
     "data": {
      "text/plain": [
       "TopicResponse(topic1='Cowboys and Sea Shanty', topic2='Pirate Cowboys', topic3='Cowboy Treasure Hunts')"
      ]
     },
     "execution_count": 60,
     "metadata": {},
     "output_type": "execute_result"
    }
   ],
   "source": [
    "class TopicResponse(BaseModel):\n",
    "    topic1: str\n",
    "    topic2: str\n",
    "    topic3: str\n",
    "\n",
    "parser = PydanticOutputParser(pydantic_object=TopicResponse)\n",
    "\n",
    "prompt_default = PromptTemplate(\n",
    "    template = (\"Generate 3 simple few word topics relating to {topic} that should lead to thought provoking and open-ended disucssion\"\n",
    "    \"The topics generated should be short single statements. \"\n",
    "    \"Under no circumstances should they be a question. \\n{format_instructions}\"),\n",
    "    input_variables=[\"topic\"],\n",
    "    partial_variables={\"format_instructions\": parser.get_format_instructions()}\n",
    ")\n",
    "\n",
    "prompt_attributes = PromptTemplate(\n",
    "    template = (\"Generate 3 simple few word topics relating to {topic} that should lead to thought provoking and open-ended disucssion\"\n",
    "    \"The topics generated should be short single statements. \"\n",
    "    \"The topics should have the following attributes:{attributes}\"\n",
    "    \"Under no circumstances should they be a question. \\n{format_instructions}\"),\n",
    "    input_variables=[\"topic\",\"attributes\"],\n",
    "    partial_variables={\"format_instructions\": parser.get_format_instructions()}\n",
    ")\n",
    "\n",
    "\n",
    "prompt_attributes_context = PromptTemplate(\n",
    "    template = (\"Generate 3 simple few word topics relating to {topic} that should lead to thought provoking and open-ended disucssion\"\n",
    "    \"The topics generated should be short single statements. \"\n",
    "    \"The topics generated should draw from the following context for direction: {context}. \"\n",
    "    \"Under no circumstances should they be a question. \\n{format_instructions}\"),\n",
    "    input_variables=[\"topic\",\"context\"],\n",
    "    partial_variables={\"format_instructions\": parser.get_format_instructions()}\n",
    ")\n",
    "\n",
    "\n",
    "prompt_attributes_context = PromptTemplate(\n",
    "    template = (\"Generate 3 simple few word topics relating to {topic} that should lead to thought provoking and open-ended disucssion\"\n",
    "    \"The topics generated should be short single statements. \"\n",
    "    \"The topics should have the following attributes:{attributes}\"\n",
    "    \"The topics generated should draw from the following context for direction: {context}. \"\n",
    "    \"Under no circumstances should they be a question. \\n{format_instructions}\"),\n",
    "    input_variables=[\"topic\", \"context\", \"attributes\"],\n",
    "    partial_variables={\"format_instructions\": parser.get_format_instructions()}\n",
    ")\n",
    "\n",
    "\n",
    "\n",
    "topic = \"Cowboys\"\n",
    "context = \"Cowboys are from the wild west\"\n",
    "attributes = \"Happy fun silly\"\n",
    "\n",
    "rag_chain = (\n",
    "    prompt_attributes_context\n",
    "    | llm\n",
    "    | parser\n",
    ")\n",
    "rag_chain.invoke({\"topic\":topic, \"attributes\":attributes, \n",
    "\"context\": context})"
   ]
  },
  {
   "cell_type": "code",
   "execution_count": null,
   "metadata": {},
   "outputs": [],
   "source": []
  }
 ],
 "metadata": {
  "kernelspec": {
   "display_name": "venv",
   "language": "python",
   "name": "python3"
  },
  "language_info": {
   "codemirror_mode": {
    "name": "ipython",
    "version": 3
   },
   "file_extension": ".py",
   "mimetype": "text/x-python",
   "name": "python",
   "nbconvert_exporter": "python",
   "pygments_lexer": "ipython3",
   "version": "3.11.7"
  }
 },
 "nbformat": 4,
 "nbformat_minor": 2
}
